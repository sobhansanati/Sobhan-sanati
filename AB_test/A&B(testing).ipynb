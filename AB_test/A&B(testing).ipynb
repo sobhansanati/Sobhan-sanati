{
 "cells": [
  {
   "cell_type": "markdown",
   "id": "52f6bec5-daf4-4af4-adf0-2f1601a46281",
   "metadata": {},
   "source": [
    "## A/B testing "
   ]
  },
  {
   "cell_type": "markdown",
   "id": "fa85aec0-046e-4df4-b68d-43fbf090be9f",
   "metadata": {},
   "source": [
    "## all these measurment's is for the test \n",
    "## We discuss the behavior of two test groups in humanities and mathematics exams\n",
    "## Here we have taken tests from our own mathematics lessons and in the human who is group B from different items to evaluate in different conditions"
   ]
  },
  {
   "cell_type": "code",
   "execution_count": 1,
   "id": "e7d66381-a487-4d04-ad37-7a3cafcf53a9",
   "metadata": {},
   "outputs": [],
   "source": [
    "import numpy as np\n",
    "import pandas as pd\n",
    "import seaborn as sns"
   ]
  },
  {
   "cell_type": "code",
   "execution_count": 2,
   "id": "20bf0c78-a871-4a8c-a767-480418c845eb",
   "metadata": {},
   "outputs": [],
   "source": [
    "a = np.array([19,14,12,10,14,20,7,12,17,16,11,10]) # random array (confidence level is set) 0-20\n",
    "b = np.array([18,18,17,12,14,20,11,16,15,14,17,11,20])"
   ]
  },
  {
   "cell_type": "code",
   "execution_count": 3,
   "id": "11d2efd2-29c8-41d7-b6d1-2440252a74fb",
   "metadata": {},
   "outputs": [
    {
     "data": {
      "text/plain": [
       "13.5"
      ]
     },
     "execution_count": 3,
     "metadata": {},
     "output_type": "execute_result"
    }
   ],
   "source": [
    "a.mean()"
   ]
  },
  {
   "cell_type": "code",
   "execution_count": 4,
   "id": "e5fb79ff-0d19-48da-81b3-a54e08d5f268",
   "metadata": {},
   "outputs": [
    {
     "data": {
      "text/plain": [
       "15.615384615384615"
      ]
     },
     "execution_count": 4,
     "metadata": {},
     "output_type": "execute_result"
    }
   ],
   "source": [
    "b.mean()"
   ]
  },
  {
   "cell_type": "code",
   "execution_count": 5,
   "id": "6e3fa680-78a8-4c8c-94e8-4490e90c6436",
   "metadata": {},
   "outputs": [
    {
     "data": {
      "text/plain": [
       "2.115384615384615"
      ]
     },
     "execution_count": 5,
     "metadata": {},
     "output_type": "execute_result"
    }
   ],
   "source": [
    "c = b.mean() - a.mean()\n",
    "c"
   ]
  },
  {
   "cell_type": "markdown",
   "id": "60b4198c-986f-4072-b27a-818f02a96001",
   "metadata": {},
   "source": [
    "Distance and difference = 0.07692307692307665"
   ]
  },
  {
   "cell_type": "code",
   "execution_count": 6,
   "id": "3603f598-980d-4eb1-9def-5ba46baf4470",
   "metadata": {},
   "outputs": [
    {
     "data": {
      "text/plain": [
       "array([1., 1., 1., 1., 1., 1., 1., 1., 1., 1., 1., 1., 1.])"
      ]
     },
     "execution_count": 6,
     "metadata": {},
     "output_type": "execute_result"
    }
   ],
   "source": [
    "np.ones(len(b)) # makes one as length of the b "
   ]
  },
  {
   "cell_type": "code",
   "execution_count": 7,
   "id": "afd22130-8061-42e7-bc67-f8eb7aeed8c6",
   "metadata": {},
   "outputs": [
    {
     "data": {
      "text/plain": [
       "array([0., 0., 0., 0., 0., 0., 0., 0., 0., 0., 0., 0., 1., 1., 1., 1., 1.,\n",
       "       1., 1., 1., 1., 1., 1., 1., 1.])"
      ]
     },
     "execution_count": 7,
     "metadata": {},
     "output_type": "execute_result"
    }
   ],
   "source": [
    "np.append(np.zeros(len(a)),np.ones(len(b)))"
   ]
  },
  {
   "cell_type": "code",
   "execution_count": 8,
   "id": "3383cf5c-7ee0-409f-bdd5-3e8190703e01",
   "metadata": {},
   "outputs": [],
   "source": [
    "overall = np.array([\n",
    "    np.append(np.zeros(len(a)),np.ones(len(b))),\n",
    "    np.append(a,b)\n",
    "])"
   ]
  },
  {
   "cell_type": "code",
   "execution_count": 9,
   "id": "9d4c43c8-403c-43ea-9e2c-6486748429c7",
   "metadata": {},
   "outputs": [
    {
     "data": {
      "text/plain": [
       "array([[ 0.,  0.,  0.,  0.,  0.,  0.,  0.,  0.,  0.,  0.,  0.,  0.,  1.,\n",
       "         1.,  1.,  1.,  1.,  1.,  1.,  1.,  1.,  1.,  1.,  1.,  1.],\n",
       "       [19., 14., 12., 10., 14., 20.,  7., 12., 17., 16., 11., 10., 18.,\n",
       "        18., 17., 12., 14., 20., 11., 16., 15., 14., 17., 11., 20.]])"
      ]
     },
     "execution_count": 9,
     "metadata": {},
     "output_type": "execute_result"
    }
   ],
   "source": [
    "overall"
   ]
  },
  {
   "cell_type": "code",
   "execution_count": 10,
   "id": "2401333d-4271-4b7f-b727-7901543be296",
   "metadata": {},
   "outputs": [],
   "source": [
    "overall_t = overall.T # transposing (change the rows and columns of the array and sort them)"
   ]
  },
  {
   "cell_type": "code",
   "execution_count": 11,
   "id": "d74cf776-b03c-4cef-bb44-06c542ee79e7",
   "metadata": {},
   "outputs": [
    {
     "data": {
      "text/plain": [
       "array([[ 0., 19.],\n",
       "       [ 0., 14.],\n",
       "       [ 0., 12.],\n",
       "       [ 0., 10.],\n",
       "       [ 0., 14.],\n",
       "       [ 0., 20.],\n",
       "       [ 0.,  7.],\n",
       "       [ 0., 12.],\n",
       "       [ 0., 17.],\n",
       "       [ 0., 16.],\n",
       "       [ 0., 11.],\n",
       "       [ 0., 10.],\n",
       "       [ 1., 18.],\n",
       "       [ 1., 18.],\n",
       "       [ 1., 17.],\n",
       "       [ 1., 12.],\n",
       "       [ 1., 14.],\n",
       "       [ 1., 20.],\n",
       "       [ 1., 11.],\n",
       "       [ 1., 16.],\n",
       "       [ 1., 15.],\n",
       "       [ 1., 14.],\n",
       "       [ 1., 17.],\n",
       "       [ 1., 11.],\n",
       "       [ 1., 20.]])"
      ]
     },
     "execution_count": 11,
     "metadata": {},
     "output_type": "execute_result"
    }
   ],
   "source": [
    "overall_t"
   ]
  },
  {
   "cell_type": "code",
   "execution_count": 12,
   "id": "530ffc2c-e1fb-49ec-9c47-236b3b898978",
   "metadata": {},
   "outputs": [],
   "source": [
    "np.random.shuffle(overall_t)"
   ]
  },
  {
   "cell_type": "code",
   "execution_count": 13,
   "id": "b993229e-88af-40ec-bd21-b2883a3423f2",
   "metadata": {},
   "outputs": [
    {
     "data": {
      "text/plain": [
       "array([[ 1., 14.],\n",
       "       [ 1., 17.],\n",
       "       [ 0.,  7.],\n",
       "       [ 0., 12.],\n",
       "       [ 0., 14.],\n",
       "       [ 0., 16.],\n",
       "       [ 0., 17.],\n",
       "       [ 1., 17.],\n",
       "       [ 1., 16.],\n",
       "       [ 1., 11.],\n",
       "       [ 0., 20.],\n",
       "       [ 1., 15.],\n",
       "       [ 1., 11.],\n",
       "       [ 1., 20.],\n",
       "       [ 0., 12.],\n",
       "       [ 0., 14.],\n",
       "       [ 1., 18.],\n",
       "       [ 0., 10.],\n",
       "       [ 1., 20.],\n",
       "       [ 0., 19.],\n",
       "       [ 1., 14.],\n",
       "       [ 0., 10.],\n",
       "       [ 1., 12.],\n",
       "       [ 0., 11.],\n",
       "       [ 1., 18.]])"
      ]
     },
     "execution_count": 13,
     "metadata": {},
     "output_type": "execute_result"
    }
   ],
   "source": [
    "overall_t"
   ]
  },
  {
   "cell_type": "code",
   "execution_count": 14,
   "id": "278e3cce-ddd5-40cf-b7ce-ac57603d1045",
   "metadata": {},
   "outputs": [
    {
     "data": {
      "text/plain": [
       "array([0, 1, 1, 0, 0, 0, 1, 0, 1, 0, 1, 0, 1, 1, 1, 0, 1, 1, 0, 0, 0, 1,\n",
       "       1, 1, 0])"
      ]
     },
     "execution_count": 14,
     "metadata": {},
     "output_type": "execute_result"
    }
   ],
   "source": [
    "understanding_label = np.random.randint(0,2,len(overall_t))\n",
    "understanding_label"
   ]
  },
  {
   "cell_type": "code",
   "execution_count": 15,
   "id": "acca04dd-0e9a-491b-86bd-0cbcf9eb7d95",
   "metadata": {},
   "outputs": [
    {
     "data": {
      "text/plain": [
       "array([[ 0.,  1.,  1.,  0.,  0.,  0.,  1.,  0.,  1.,  0.,  1.,  0.,  1.,\n",
       "         1.,  1.,  0.,  1.,  1.,  0.,  0.,  0.,  1.,  1.,  1.,  0.],\n",
       "       [14., 17.,  7., 12., 14., 16., 17., 17., 16., 11., 20., 15., 11.,\n",
       "        20., 12., 14., 18., 10., 20., 19., 14., 10., 12., 11., 18.]])"
      ]
     },
     "execution_count": 15,
     "metadata": {},
     "output_type": "execute_result"
    }
   ],
   "source": [
    "understanding_data = np.array([\n",
    "    understanding_label,\n",
    "    overall_t[:,1]\n",
    "])\n",
    "understanding_data"
   ]
  },
  {
   "cell_type": "code",
   "execution_count": 16,
   "id": "b4ce21c1-2b70-4786-9f6c-778a48140539",
   "metadata": {},
   "outputs": [
    {
     "data": {
      "text/plain": [
       "array([[ 0., 14.],\n",
       "       [ 1., 17.],\n",
       "       [ 1.,  7.],\n",
       "       [ 0., 12.],\n",
       "       [ 0., 14.],\n",
       "       [ 0., 16.],\n",
       "       [ 1., 17.],\n",
       "       [ 0., 17.],\n",
       "       [ 1., 16.],\n",
       "       [ 0., 11.],\n",
       "       [ 1., 20.],\n",
       "       [ 0., 15.],\n",
       "       [ 1., 11.],\n",
       "       [ 1., 20.],\n",
       "       [ 1., 12.],\n",
       "       [ 0., 14.],\n",
       "       [ 1., 18.],\n",
       "       [ 1., 10.],\n",
       "       [ 0., 20.],\n",
       "       [ 0., 19.],\n",
       "       [ 0., 14.],\n",
       "       [ 1., 10.],\n",
       "       [ 1., 12.],\n",
       "       [ 1., 11.],\n",
       "       [ 0., 18.]])"
      ]
     },
     "execution_count": 16,
     "metadata": {},
     "output_type": "execute_result"
    }
   ],
   "source": [
    "understanding_data_t = understanding_data.T\n",
    "understanding_data_t"
   ]
  },
  {
   "cell_type": "code",
   "execution_count": 17,
   "id": "f1366a84-23d6-4102-8806-cf172c3cd7ca",
   "metadata": {},
   "outputs": [
    {
     "data": {
      "text/plain": [
       "array([17.,  7., 17., 16., 20., 11., 20., 12., 18., 10., 10., 12., 11.])"
      ]
     },
     "execution_count": 17,
     "metadata": {},
     "output_type": "execute_result"
    }
   ],
   "source": [
    "understanding_data_t[understanding_data_t[:,0]==1][:,1]"
   ]
  },
  {
   "cell_type": "code",
   "execution_count": 18,
   "id": "63992a98-8f6f-467e-a4ef-bb766cd5e89a",
   "metadata": {},
   "outputs": [
    {
     "data": {
      "text/plain": [
       "array([14., 12., 14., 16., 17., 11., 15., 14., 20., 19., 14., 18.])"
      ]
     },
     "execution_count": 18,
     "metadata": {},
     "output_type": "execute_result"
    }
   ],
   "source": [
    "understanding_data_t[understanding_data_t[:,0]==0][:,1]"
   ]
  },
  {
   "cell_type": "code",
   "execution_count": 19,
   "id": "dcee37e6-ef45-4213-a85e-4a37c8bdf05e",
   "metadata": {},
   "outputs": [
    {
     "data": {
      "text/plain": [
       "15.333333333333334"
      ]
     },
     "execution_count": 19,
     "metadata": {},
     "output_type": "execute_result"
    }
   ],
   "source": [
    "understanding_data_t[understanding_data_t[:,0]==0][:,1].mean()"
   ]
  },
  {
   "cell_type": "code",
   "execution_count": 20,
   "id": "8e8f4afd-694e-40d7-9e48-4b87e2e5f43e",
   "metadata": {},
   "outputs": [
    {
     "data": {
      "text/plain": [
       "13.923076923076923"
      ]
     },
     "execution_count": 20,
     "metadata": {},
     "output_type": "execute_result"
    }
   ],
   "source": [
    "understanding_data_t[understanding_data_t[:,0]==1][:,1].mean()"
   ]
  },
  {
   "cell_type": "code",
   "execution_count": 21,
   "id": "09b51669-ead6-4ca0-ae03-363faaa8e6a2",
   "metadata": {},
   "outputs": [
    {
     "data": {
      "text/plain": [
       "array([[6.23042070e-307],\n",
       "       [4.67296746e-307],\n",
       "       [1.69121096e-306],\n",
       "       [3.33772792e-307],\n",
       "       [6.23047503e-307],\n",
       "       [2.22526399e-307],\n",
       "       [6.23053614e-307],\n",
       "       [7.56592338e-307],\n",
       "       [9.34588061e-307],\n",
       "       [3.62651150e-317]])"
      ]
     },
     "execution_count": 21,
     "metadata": {},
     "output_type": "execute_result"
    }
   ],
   "source": [
    "np.empty([10,1])"
   ]
  },
  {
   "cell_type": "code",
   "execution_count": 22,
   "id": "2612776a-8677-453c-86c9-27e443da49ef",
   "metadata": {},
   "outputs": [],
   "source": [
    "understanding_diff_mean = np.empty([150,1])"
   ]
  },
  {
   "cell_type": "code",
   "execution_count": 23,
   "id": "8e26ceaa-a33a-464b-96f8-2635cf9a4eec",
   "metadata": {},
   "outputs": [],
   "source": [
    "for times in np.arange(150):\n",
    "            understanding_label = np.random.randint(0,2,len(overall_t))\n",
    "            understanding_data = np.array([\n",
    "                 understanding_label,\n",
    "                 overall_t[:,1]\n",
    "         ]).T"
   ]
  },
  {
   "cell_type": "code",
   "execution_count": 24,
   "id": "ae9dd515-ed51-4157-9271-6369f5bedd6c",
   "metadata": {},
   "outputs": [],
   "source": [
    "understanding_diff_mean[times] =  understanding_data[understanding_data[:,0]==1].mean() - understanding_data[understanding_data[:,0]==0].mean()"
   ]
  },
  {
   "cell_type": "code",
   "execution_count": 25,
   "id": "2f46d2c2-d4cd-4b79-9ebb-433f6ae58219",
   "metadata": {},
   "outputs": [
    {
     "data": {
      "text/plain": [
       "array([[6.95215176e-310],\n",
       "       [6.95215176e-310],\n",
       "       [6.95215176e-310],\n",
       "       [6.95215176e-310],\n",
       "       [6.95215176e-310],\n",
       "       [6.95215176e-310],\n",
       "       [6.95215176e-310],\n",
       "       [6.95215176e-310],\n",
       "       [6.95215176e-310],\n",
       "       [6.95215176e-310],\n",
       "       [6.95215176e-310],\n",
       "       [6.95215176e-310],\n",
       "       [6.95215176e-310],\n",
       "       [6.95215176e-310],\n",
       "       [6.95215176e-310],\n",
       "       [6.95215176e-310],\n",
       "       [6.95215176e-310],\n",
       "       [6.95215176e-310],\n",
       "       [6.95215176e-310],\n",
       "       [6.95215176e-310],\n",
       "       [6.95215176e-310],\n",
       "       [6.95215176e-310],\n",
       "       [6.95215176e-310],\n",
       "       [6.95215176e-310],\n",
       "       [6.95215176e-310],\n",
       "       [6.95215176e-310],\n",
       "       [6.95215176e-310],\n",
       "       [6.95215176e-310],\n",
       "       [6.95215176e-310],\n",
       "       [6.95215176e-310],\n",
       "       [6.95215176e-310],\n",
       "       [6.95215176e-310],\n",
       "       [6.95215176e-310],\n",
       "       [6.95215176e-310],\n",
       "       [6.95215176e-310],\n",
       "       [6.95215176e-310],\n",
       "       [6.95215176e-310],\n",
       "       [6.95215176e-310],\n",
       "       [6.95215176e-310],\n",
       "       [6.95215176e-310],\n",
       "       [6.95215176e-310],\n",
       "       [6.95215176e-310],\n",
       "       [6.95215176e-310],\n",
       "       [6.95215176e-310],\n",
       "       [6.95215176e-310],\n",
       "       [6.95215176e-310],\n",
       "       [6.95215176e-310],\n",
       "       [6.95215176e-310],\n",
       "       [6.95215176e-310],\n",
       "       [6.95215176e-310],\n",
       "       [6.95215176e-310],\n",
       "       [6.95215176e-310],\n",
       "       [6.95215176e-310],\n",
       "       [6.95215176e-310],\n",
       "       [6.95215176e-310],\n",
       "       [6.95215176e-310],\n",
       "       [6.95215176e-310],\n",
       "       [6.95215176e-310],\n",
       "       [6.95215176e-310],\n",
       "       [6.95215176e-310],\n",
       "       [6.95215176e-310],\n",
       "       [6.95215176e-310],\n",
       "       [6.95215176e-310],\n",
       "       [6.95215176e-310],\n",
       "       [6.95215176e-310],\n",
       "       [6.95215176e-310],\n",
       "       [6.95215176e-310],\n",
       "       [6.95215176e-310],\n",
       "       [6.95215176e-310],\n",
       "       [6.95215176e-310],\n",
       "       [6.95215176e-310],\n",
       "       [6.95215176e-310],\n",
       "       [6.95215176e-310],\n",
       "       [6.95215176e-310],\n",
       "       [6.95215176e-310],\n",
       "       [6.95215176e-310],\n",
       "       [6.95215176e-310],\n",
       "       [6.95215176e-310],\n",
       "       [6.95215176e-310],\n",
       "       [6.95215176e-310],\n",
       "       [6.95215176e-310],\n",
       "       [6.95215176e-310],\n",
       "       [6.95215176e-310],\n",
       "       [6.95215176e-310],\n",
       "       [6.95215176e-310],\n",
       "       [6.95215176e-310],\n",
       "       [6.95215176e-310],\n",
       "       [6.95215176e-310],\n",
       "       [6.95215176e-310],\n",
       "       [6.95215176e-310],\n",
       "       [6.95215176e-310],\n",
       "       [6.95215176e-310],\n",
       "       [6.95215176e-310],\n",
       "       [6.95215176e-310],\n",
       "       [6.95215176e-310],\n",
       "       [6.95215176e-310],\n",
       "       [6.95215176e-310],\n",
       "       [6.95215176e-310],\n",
       "       [6.95215176e-310],\n",
       "       [6.95215176e-310],\n",
       "       [6.95215176e-310],\n",
       "       [6.95215176e-310],\n",
       "       [6.95215176e-310],\n",
       "       [6.95215176e-310],\n",
       "       [6.95215176e-310],\n",
       "       [6.95215176e-310],\n",
       "       [6.95215176e-310],\n",
       "       [6.95215176e-310],\n",
       "       [6.95215176e-310],\n",
       "       [6.95215176e-310],\n",
       "       [6.95215176e-310],\n",
       "       [6.95215176e-310],\n",
       "       [6.95215176e-310],\n",
       "       [6.95215176e-310],\n",
       "       [6.95215176e-310],\n",
       "       [6.95215176e-310],\n",
       "       [6.95215176e-310],\n",
       "       [6.95215176e-310],\n",
       "       [6.95215176e-310],\n",
       "       [6.95215176e-310],\n",
       "       [6.95215176e-310],\n",
       "       [6.95215176e-310],\n",
       "       [6.95215176e-310],\n",
       "       [6.95215176e-310],\n",
       "       [6.95215176e-310],\n",
       "       [6.95215176e-310],\n",
       "       [6.95215176e-310],\n",
       "       [6.95215176e-310],\n",
       "       [6.95215176e-310],\n",
       "       [6.95215176e-310],\n",
       "       [6.95215176e-310],\n",
       "       [6.95215176e-310],\n",
       "       [6.95215176e-310],\n",
       "       [6.95215176e-310],\n",
       "       [6.95215176e-310],\n",
       "       [6.95215176e-310],\n",
       "       [6.95215176e-310],\n",
       "       [6.95215176e-310],\n",
       "       [6.95215176e-310],\n",
       "       [6.95215176e-310],\n",
       "       [6.95215176e-310],\n",
       "       [6.95215176e-310],\n",
       "       [6.95215176e-310],\n",
       "       [6.95215176e-310],\n",
       "       [6.95215176e-310],\n",
       "       [6.95215176e-310],\n",
       "       [6.95215176e-310],\n",
       "       [6.95215176e-310],\n",
       "       [1.51904424e-311],\n",
       "       [5.48701299e-001]])"
      ]
     },
     "execution_count": 25,
     "metadata": {},
     "output_type": "execute_result"
    }
   ],
   "source": [
    "e1 = understanding_diff_mean\n",
    "e1"
   ]
  },
  {
   "cell_type": "code",
   "execution_count": 26,
   "id": "a06e7df8-3880-4c23-828d-77f43790ccbf",
   "metadata": {},
   "outputs": [
    {
     "data": {
      "text/plain": [
       "0"
      ]
     },
     "execution_count": 26,
     "metadata": {},
     "output_type": "execute_result"
    }
   ],
   "source": [
    "len(e1[e1 >= c])"
   ]
  }
 ],
 "metadata": {
  "kernelspec": {
   "display_name": "Python 3 (ipykernel)",
   "language": "python",
   "name": "python3"
  },
  "language_info": {
   "codemirror_mode": {
    "name": "ipython",
    "version": 3
   },
   "file_extension": ".py",
   "mimetype": "text/x-python",
   "name": "python",
   "nbconvert_exporter": "python",
   "pygments_lexer": "ipython3",
   "version": "3.11.5"
  }
 },
 "nbformat": 4,
 "nbformat_minor": 5
}
