{
 "cells": [
  {
   "cell_type": "code",
   "execution_count": 1,
   "id": "f03e935f-fbea-43f1-902d-68fca9c11943",
   "metadata": {},
   "outputs": [],
   "source": [
    "import numpy as np \n",
    "import pandas as pd \n",
    "import seaborn as sns"
   ]
  },
  {
   "cell_type": "code",
   "execution_count": 2,
   "id": "9cc36466-72cb-4ee4-93e5-619738dafbf5",
   "metadata": {},
   "outputs": [],
   "source": [
    "a = np.array([19,14,12,10,14,20,7,12,17,16,11,10]) # random array (confidence level is set) 0-20\n",
    "b = np.array([18,18,17,12,14,20,11,16,15,14,17,11,20])"
   ]
  },
  {
   "cell_type": "code",
   "execution_count": 3,
   "id": "c5124a5a-d33e-44c9-b7bf-2abaee94499f",
   "metadata": {},
   "outputs": [],
   "source": [
    "c = a.mean() - b.mean()"
   ]
  },
  {
   "cell_type": "code",
   "execution_count": 4,
   "id": "6584b245-f597-403d-aca7-31276d22065f",
   "metadata": {},
   "outputs": [],
   "source": [
    "overall = np.array([\n",
    "    np.append(np.zeros(len(a)),np.ones(len(b))),\n",
    "    np.append(a,b)\n",
    "])"
   ]
  },
  {
   "cell_type": "code",
   "execution_count": 5,
   "id": "715e5a32-9bca-46c9-b725-30a295c23c05",
   "metadata": {},
   "outputs": [],
   "source": [
    "overall_t = overall.T # transposing (change the rows and columns of the array and sort them)"
   ]
  },
  {
   "cell_type": "code",
   "execution_count": 6,
   "id": "3f7847f8-9153-4b5d-ac5c-1eeeb99c891b",
   "metadata": {},
   "outputs": [],
   "source": [
    "def sh_understanding(N):\n",
    "    understanding_diff_mean = np.empty([N,1])\n",
    "    for times in np.arange(N):\n",
    "            understanding_label = np.random.randint(0,2,len(overall_t))\n",
    "            understanding_data = np.array([\n",
    "                 understanding_label,\n",
    "                 overall_t[:,1]\n",
    "         ]).T\n",
    "            understanding_diff_mean[times] =  understanding_data[understanding_data[:,0]==1].mean() - understanding_data[understanding_data[:,0]==0].mean()\n",
    "    return  understanding_diff_mean"
   ]
  },
  {
   "cell_type": "code",
   "execution_count": 7,
   "id": "fdbf1bff-5146-433f-a390-0fab14173166",
   "metadata": {},
   "outputs": [],
   "source": [
    "e1 = sh_understanding (1500)"
   ]
  },
  {
   "cell_type": "code",
   "execution_count": 8,
   "id": "3719e9ea-9f36-4723-9cab-cf6a2b31ac1e",
   "metadata": {},
   "outputs": [
    {
     "name": "stdout",
     "output_type": "stream",
     "text": [
      "[[-1.41666667]\n",
      " [ 1.05555556]\n",
      " [-0.83116883]\n",
      " ...\n",
      " [ 0.20486111]\n",
      " [-0.89705882]\n",
      " [-0.55769231]]\n"
     ]
    }
   ],
   "source": [
    "print(e1)"
   ]
  },
  {
   "cell_type": "code",
   "execution_count": 9,
   "id": "99213df6-e5fa-4acd-b5f8-b103a3e0796d",
   "metadata": {},
   "outputs": [
    {
     "data": {
      "text/plain": [
       "1500"
      ]
     },
     "execution_count": 9,
     "metadata": {},
     "output_type": "execute_result"
    }
   ],
   "source": [
    "len(e1[e1 >= c])"
   ]
  },
  {
   "cell_type": "code",
   "execution_count": 10,
   "id": "196e8b2a-35fa-4686-85af-616e4229be28",
   "metadata": {},
   "outputs": [
    {
     "data": {
      "text/plain": [
       "56.99999999999999"
      ]
     },
     "execution_count": 10,
     "metadata": {},
     "output_type": "execute_result"
    }
   ],
   "source": [
    "57 / 100 * 100"
   ]
  },
  {
   "cell_type": "code",
   "execution_count": 11,
   "id": "1349c5fc-e234-4ba1-9d91-09e34cffca43",
   "metadata": {},
   "outputs": [
    {
     "name": "stderr",
     "output_type": "stream",
     "text": [
      "C:\\Users\\LENOVO\\AppData\\Local\\Programs\\Python\\Python311\\Lib\\site-packages\\seaborn\\_oldcore.py:1498: FutureWarning: is_categorical_dtype is deprecated and will be removed in a future version. Use isinstance(dtype, CategoricalDtype) instead\n",
      "  if pd.api.types.is_categorical_dtype(vector):\n",
      "C:\\Users\\LENOVO\\AppData\\Local\\Programs\\Python\\Python311\\Lib\\site-packages\\seaborn\\_oldcore.py:1498: FutureWarning: is_categorical_dtype is deprecated and will be removed in a future version. Use isinstance(dtype, CategoricalDtype) instead\n",
      "  if pd.api.types.is_categorical_dtype(vector):\n",
      "C:\\Users\\LENOVO\\AppData\\Local\\Programs\\Python\\Python311\\Lib\\site-packages\\seaborn\\_oldcore.py:1498: FutureWarning: is_categorical_dtype is deprecated and will be removed in a future version. Use isinstance(dtype, CategoricalDtype) instead\n",
      "  if pd.api.types.is_categorical_dtype(vector):\n",
      "C:\\Users\\LENOVO\\AppData\\Local\\Programs\\Python\\Python311\\Lib\\site-packages\\seaborn\\_oldcore.py:1498: FutureWarning: is_categorical_dtype is deprecated and will be removed in a future version. Use isinstance(dtype, CategoricalDtype) instead\n",
      "  if pd.api.types.is_categorical_dtype(vector):\n",
      "C:\\Users\\LENOVO\\AppData\\Local\\Programs\\Python\\Python311\\Lib\\site-packages\\seaborn\\_oldcore.py:1498: FutureWarning: is_categorical_dtype is deprecated and will be removed in a future version. Use isinstance(dtype, CategoricalDtype) instead\n",
      "  if pd.api.types.is_categorical_dtype(vector):\n",
      "C:\\Users\\LENOVO\\AppData\\Local\\Programs\\Python\\Python311\\Lib\\site-packages\\seaborn\\_oldcore.py:1119: FutureWarning: use_inf_as_na option is deprecated and will be removed in a future version. Convert inf values to NaN before operating instead.\n",
      "  with pd.option_context('mode.use_inf_as_na', True):\n"
     ]
    },
    {
     "data": {
      "text/plain": [
       "<seaborn.axisgrid.FacetGrid at 0x2234d818b10>"
      ]
     },
     "execution_count": 11,
     "metadata": {},
     "output_type": "execute_result"
    },
    {
     "data": {
      "image/png": "[encoded data removed]",
      "text/plain": [
       "<Figure size 558.75x500 with 1 Axes>"
      ]
     },
     "metadata": {},
     "output_type": "display_data"
    }
   ],
   "source": [
    "sns.displot(e1,bins=100)"
   ]
  }
 ],
 "metadata": {
  "kernelspec": {
   "display_name": "Python 3 (ipykernel)",
   "language": "python",
   "name": "python3"
  },
  "language_info": {
   "codemirror_mode": {
    "name": "ipython",
    "version": 3
   },
   "file_extension": ".py",
   "mimetype": "text/x-python",
   "name": "python",
   "nbconvert_exporter": "python",
   "pygments_lexer": "ipython3",
   "version": "3.11.5"
  }
 },
 "nbformat": 4,
 "nbformat_minor": 5
}
